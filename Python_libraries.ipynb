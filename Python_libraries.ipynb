{
  "metadata": {
    "kernelspec": {
      "language": "python",
      "display_name": "Python 3",
      "name": "python3"
    },
    "language_info": {
      "name": "python",
      "version": "3.11.13",
      "mimetype": "text/x-python",
      "codemirror_mode": {
        "name": "ipython",
        "version": 3
      },
      "pygments_lexer": "ipython3",
      "nbconvert_exporter": "python",
      "file_extension": ".py"
    },
    "kaggle": {
      "accelerator": "none",
      "dataSources": [],
      "dockerImageVersionId": 31089,
      "isInternetEnabled": false,
      "language": "python",
      "sourceType": "notebook",
      "isGpuEnabled": false
    },
    "colab": {
      "provenance": [],
      "include_colab_link": true
    }
  },
  "nbformat_minor": 0,
  "nbformat": 4,
  "cells": [
    {
      "cell_type": "markdown",
      "metadata": {
        "id": "view-in-github",
        "colab_type": "text"
      },
      "source": [
        "<a href=\"https://colab.research.google.com/github/Sona0223/Python-codes/blob/main/Python_libraries.ipynb\" target=\"_parent\"><img src=\"https://colab.research.google.com/assets/colab-badge.svg\" alt=\"Open In Colab\"/></a>"
      ]
    },
    {
      "cell_type": "code",
      "source": [
        "# This Python 3 environment comes with many helpful analytics libraries installed\n",
        "# It is defined by the kaggle/python Docker image: https://github.com/kaggle/docker-python\n",
        "# For example, here's several helpful packages to load\n",
        "\n",
        "import numpy as np # linear algebra\n",
        "import pandas as pd # data processing, CSV file I/O (e.g. pd.read_csv)\n",
        "\n",
        "# Input data files are available in the read-only \"../input/\" directory\n",
        "# For example, running this (by clicking run or pressing Shift+Enter) will list all files under the input directory\n",
        "\n",
        "import os\n",
        "for dirname, _, filenames in os.walk('/kaggle/input'):\n",
        "    for filename in filenames:\n",
        "        print(os.path.join(dirname, filename))\n",
        "\n",
        "# You can write up to 20GB to the current directory (/kaggle/working/) that gets preserved as output when you create a version using \"Save & Run All\"\n",
        "# You can also write temporary files to /kaggle/temp/, but they won't be saved outside of the current session"
      ],
      "metadata": {
        "_uuid": "8f2839f25d086af736a60e9eeb907d3b93b6e0e5",
        "_cell_guid": "b1076dfc-b9ad-4769-8c92-a6c4dae69d19",
        "trusted": true,
        "id": "a3UN2tJcUhcp"
      },
      "outputs": [],
      "execution_count": null
    },
    {
      "cell_type": "code",
      "source": [
        "import numpy as np\n",
        "list1= [1,2,3,4]\n",
        "list2=[2,3,4,5]\n",
        "n1=np.array(list1)\n",
        "n2=np.array(list2)\n",
        "n3=n1+n2\n",
        "print(n3)"
      ],
      "metadata": {
        "trusted": true,
        "id": "2smetwRHUhct",
        "outputId": "dedc3ed0-c86f-48c4-becd-fb20b47f50db",
        "colab": {
          "base_uri": "https://localhost:8080/"
        }
      },
      "outputs": [
        {
          "output_type": "stream",
          "name": "stdout",
          "text": [
            "[3 5 7 9]\n"
          ]
        }
      ],
      "execution_count": null
    },
    {
      "cell_type": "code",
      "source": [
        "l1=[1,2,3,4,5]\n",
        "l2=[2,3,4,5,6]\n",
        "l3=[9,7,6,8,9]\n",
        "arr=np.array([l1,l2,l3])\n",
        "print(arr)"
      ],
      "metadata": {
        "trusted": true,
        "id": "8Xz8Mm4nUhct",
        "outputId": "e22ffe0d-9ea7-44ab-bc9a-9cf63113010a",
        "colab": {
          "base_uri": "https://localhost:8080/"
        }
      },
      "outputs": [
        {
          "output_type": "stream",
          "name": "stdout",
          "text": [
            "[[1 2 3 4 5]\n",
            " [2 3 4 5 6]\n",
            " [9 7 6 8 9]]\n"
          ]
        }
      ],
      "execution_count": null
    },
    {
      "cell_type": "code",
      "source": [
        "arr.shape"
      ],
      "metadata": {
        "trusted": true,
        "id": "ZzAbLMB-Uhcu",
        "outputId": "a5d0855e-de97-4d4c-9009-36b4ffc128a3",
        "colab": {
          "base_uri": "https://localhost:8080/"
        }
      },
      "outputs": [
        {
          "output_type": "execute_result",
          "data": {
            "text/plain": [
              "(3, 5)"
            ]
          },
          "metadata": {},
          "execution_count": 4
        }
      ],
      "execution_count": null
    },
    {
      "cell_type": "code",
      "source": [
        "arr[:,1]\n"
      ],
      "metadata": {
        "trusted": true,
        "id": "yrjfrZl1Uhcu",
        "outputId": "9ea28153-443d-4d85-ea09-60c7fa68b3b9",
        "colab": {
          "base_uri": "https://localhost:8080/"
        }
      },
      "outputs": [
        {
          "output_type": "execute_result",
          "data": {
            "text/plain": [
              "array([2, 3, 7])"
            ]
          },
          "metadata": {},
          "execution_count": 5
        }
      ],
      "execution_count": null
    },
    {
      "cell_type": "code",
      "source": [
        "arr[2,:]"
      ],
      "metadata": {
        "trusted": true,
        "id": "ayBEjn42Uhcv",
        "outputId": "83dfedab-ebad-4899-ce99-1500a00dd657",
        "colab": {
          "base_uri": "https://localhost:8080/"
        }
      },
      "outputs": [
        {
          "output_type": "execute_result",
          "data": {
            "text/plain": [
              "array([9, 7, 6, 8, 9])"
            ]
          },
          "metadata": {},
          "execution_count": 6
        }
      ],
      "execution_count": null
    },
    {
      "cell_type": "code",
      "source": [
        "arr[1,2:4]"
      ],
      "metadata": {
        "trusted": true,
        "id": "WQMIaihSUhcw",
        "outputId": "767011a6-efb7-43dd-b48b-2d98cfcd8e51",
        "colab": {
          "base_uri": "https://localhost:8080/"
        }
      },
      "outputs": [
        {
          "output_type": "execute_result",
          "data": {
            "text/plain": [
              "array([4, 5])"
            ]
          },
          "metadata": {},
          "execution_count": 7
        }
      ],
      "execution_count": null
    },
    {
      "cell_type": "code",
      "source": [
        "arr[1:,2:4]"
      ],
      "metadata": {
        "trusted": true,
        "id": "lcmDmNnAUhcw",
        "outputId": "3a6ab647-74a9-482c-fb65-f8b3c978ed90",
        "colab": {
          "base_uri": "https://localhost:8080/"
        }
      },
      "outputs": [
        {
          "output_type": "execute_result",
          "data": {
            "text/plain": [
              "array([[4, 5],\n",
              "       [6, 8]])"
            ]
          },
          "metadata": {},
          "execution_count": 8
        }
      ],
      "execution_count": null
    },
    {
      "cell_type": "code",
      "source": [
        "arr[1:,2:4]=np.ones(2)\n",
        "print(arr)"
      ],
      "metadata": {
        "trusted": true,
        "id": "im9YLQ_UUhcx",
        "outputId": "52c500bd-ad71-4a20-97be-bcc3b3ffed64",
        "colab": {
          "base_uri": "https://localhost:8080/"
        }
      },
      "outputs": [
        {
          "output_type": "stream",
          "name": "stdout",
          "text": [
            "[[1 2 3 4 5]\n",
            " [2 3 1 1 6]\n",
            " [9 7 1 1 9]]\n"
          ]
        }
      ],
      "execution_count": null
    },
    {
      "cell_type": "code",
      "source": [
        "arr[1:,2:4]=np.zeros(2)\n",
        "print(arr)"
      ],
      "metadata": {
        "trusted": true,
        "id": "RzliUzUhUhcx",
        "outputId": "45a57141-671b-4c54-d92e-842d11ab2395",
        "colab": {
          "base_uri": "https://localhost:8080/"
        }
      },
      "outputs": [
        {
          "output_type": "stream",
          "name": "stdout",
          "text": [
            "[[1 2 3 4 5]\n",
            " [2 3 0 0 6]\n",
            " [9 7 0 0 9]]\n"
          ]
        }
      ],
      "execution_count": null
    },
    {
      "cell_type": "code",
      "source": [
        "arr[arr>3]\n"
      ],
      "metadata": {
        "trusted": true,
        "id": "PD0z7VkKUhcx",
        "outputId": "618e889b-578c-4832-a6e3-965d2650ef0b",
        "colab": {
          "base_uri": "https://localhost:8080/"
        }
      },
      "outputs": [
        {
          "output_type": "execute_result",
          "data": {
            "text/plain": [
              "array([4, 5, 6, 9, 7, 9])"
            ]
          },
          "metadata": {},
          "execution_count": 11
        }
      ],
      "execution_count": null
    },
    {
      "cell_type": "code",
      "source": [
        "l1=[1,2,3,4,5]\n",
        "l2=[2,3,4,5,6]\n",
        "l3=[9,7,6,8,9]\n",
        "a=np.array([l1,l2,l3])\n",
        "print(a)"
      ],
      "metadata": {
        "trusted": true,
        "id": "gs_eEASZUhcx",
        "outputId": "8400b21a-cb7f-4db0-eb5a-e28bcfd1737c",
        "colab": {
          "base_uri": "https://localhost:8080/"
        }
      },
      "outputs": [
        {
          "output_type": "stream",
          "name": "stdout",
          "text": [
            "[[1 2 3 4 5]\n",
            " [2 3 4 5 6]\n",
            " [9 7 6 8 9]]\n"
          ]
        }
      ],
      "execution_count": null
    },
    {
      "cell_type": "code",
      "source": [
        "a[a<3]"
      ],
      "metadata": {
        "trusted": true,
        "id": "WS6MBB6uUhcy",
        "outputId": "10a86d92-c508-4347-ba21-ce5ecab16679",
        "colab": {
          "base_uri": "https://localhost:8080/"
        }
      },
      "outputs": [
        {
          "output_type": "execute_result",
          "data": {
            "text/plain": [
              "array([1, 2, 2])"
            ]
          },
          "metadata": {},
          "execution_count": 13
        }
      ],
      "execution_count": null
    },
    {
      "cell_type": "code",
      "source": [
        "b=range(1,11)\n",
        "print(type(b))"
      ],
      "metadata": {
        "trusted": true,
        "id": "irpq_tGcUhcy",
        "outputId": "e4984bb9-47c4-41f2-ae15-fec12cc542f1",
        "colab": {
          "base_uri": "https://localhost:8080/"
        }
      },
      "outputs": [
        {
          "output_type": "stream",
          "name": "stdout",
          "text": [
            "<class 'range'>\n"
          ]
        }
      ],
      "execution_count": null
    },
    {
      "cell_type": "code",
      "source": [
        "b=np.arange(1,11).reshape(2,5)\n",
        "print(b)\n",
        "print(type(b))"
      ],
      "metadata": {
        "trusted": true,
        "id": "6En7TZvOUhcy",
        "outputId": "d535915f-68eb-4d50-eacf-9b1d0a3af560",
        "colab": {
          "base_uri": "https://localhost:8080/"
        }
      },
      "outputs": [
        {
          "output_type": "stream",
          "name": "stdout",
          "text": [
            "[[ 1  2  3  4  5]\n",
            " [ 6  7  8  9 10]]\n",
            "<class 'numpy.ndarray'>\n"
          ]
        }
      ],
      "execution_count": null
    },
    {
      "cell_type": "code",
      "source": [
        "c=np.arange(1,11).reshape(2,5)\n",
        "print(c)"
      ],
      "metadata": {
        "trusted": true,
        "id": "Qv7yQKrUUhcy",
        "outputId": "2123db78-0996-4ac4-f7a8-24d1935b82ef",
        "colab": {
          "base_uri": "https://localhost:8080/"
        }
      },
      "outputs": [
        {
          "output_type": "stream",
          "name": "stdout",
          "text": [
            "[[ 1  2  3  4  5]\n",
            " [ 6  7  8  9 10]]\n"
          ]
        }
      ],
      "execution_count": null
    },
    {
      "cell_type": "code",
      "source": [
        "d=b*c\n",
        "print(d)"
      ],
      "metadata": {
        "trusted": true,
        "id": "5SXCoQonUhcy",
        "outputId": "64aeac6e-0412-48f8-86ac-b679e43cb076",
        "colab": {
          "base_uri": "https://localhost:8080/"
        }
      },
      "outputs": [
        {
          "output_type": "stream",
          "name": "stdout",
          "text": [
            "[[  1   4   9  16  25]\n",
            " [ 36  49  64  81 100]]\n"
          ]
        }
      ],
      "execution_count": null
    },
    {
      "cell_type": "code",
      "source": [
        "si=5*[1,2,3]\n",
        "print(si) #multiplication of scalable value can be done with list"
      ],
      "metadata": {
        "trusted": true,
        "id": "X2dXPcSrUhcy",
        "outputId": "2dca9fa2-b0c3-4e95-efcb-189d9cec3a54",
        "colab": {
          "base_uri": "https://localhost:8080/"
        }
      },
      "outputs": [
        {
          "output_type": "stream",
          "name": "stdout",
          "text": [
            "[1, 2, 3, 1, 2, 3, 1, 2, 3, 1, 2, 3, 1, 2, 3]\n"
          ]
        }
      ],
      "execution_count": null
    },
    {
      "cell_type": "code",
      "source": [
        "h=5+[1,2,3]\n",
        "print(h) #addition of scalable of list is not possible"
      ],
      "metadata": {
        "trusted": true,
        "id": "Ka3vq5tBUhcz",
        "outputId": "d5c7cf71-0c0a-4265-98e7-d820ba517e21",
        "colab": {
          "base_uri": "https://localhost:8080/",
          "height": 158
        }
      },
      "outputs": [
        {
          "output_type": "error",
          "ename": "TypeError",
          "evalue": "unsupported operand type(s) for +: 'int' and 'list'",
          "traceback": [
            "\u001b[0;31m---------------------------------------------------------------------------\u001b[0m",
            "\u001b[0;31mTypeError\u001b[0m                                 Traceback (most recent call last)",
            "\u001b[0;32m/tmp/ipython-input-1575408414.py\u001b[0m in \u001b[0;36m<cell line: 0>\u001b[0;34m()\u001b[0m\n\u001b[0;32m----> 1\u001b[0;31m \u001b[0mh\u001b[0m\u001b[0;34m=\u001b[0m\u001b[0;36m5\u001b[0m\u001b[0;34m+\u001b[0m\u001b[0;34m[\u001b[0m\u001b[0;36m1\u001b[0m\u001b[0;34m,\u001b[0m\u001b[0;36m2\u001b[0m\u001b[0;34m,\u001b[0m\u001b[0;36m3\u001b[0m\u001b[0;34m]\u001b[0m\u001b[0;34m\u001b[0m\u001b[0;34m\u001b[0m\u001b[0m\n\u001b[0m\u001b[1;32m      2\u001b[0m \u001b[0mprint\u001b[0m\u001b[0;34m(\u001b[0m\u001b[0mh\u001b[0m\u001b[0;34m)\u001b[0m \u001b[0;31m#addition of scalable of list is not possible\u001b[0m\u001b[0;34m\u001b[0m\u001b[0;34m\u001b[0m\u001b[0m\n",
            "\u001b[0;31mTypeError\u001b[0m: unsupported operand type(s) for +: 'int' and 'list'"
          ]
        }
      ],
      "execution_count": null
    },
    {
      "cell_type": "code",
      "source": [
        "import matplotlib.pyplot as plt\n",
        "import numpy as np\n",
        "x=np.arange(0,10)\n",
        "y=np.arange(11,21)\n",
        "print(x,y)"
      ],
      "metadata": {
        "trusted": true,
        "id": "HJck6ZszUhcz",
        "outputId": "19644442-2d19-45a2-c093-5c413609e406",
        "colab": {
          "base_uri": "https://localhost:8080/"
        }
      },
      "outputs": [
        {
          "output_type": "stream",
          "name": "stdout",
          "text": [
            "[0 1 2 3 4 5 6 7 8 9] [11 12 13 14 15 16 17 18 19 20]\n"
          ]
        }
      ],
      "execution_count": null
    },
    {
      "cell_type": "code",
      "source": [
        "plt.scatter(x,y,c='r') #k=black color , if remove c='r' then by default blue color, g=green color, y=yellow color\n",
        "plt.xlabel('height')\n",
        "plt.ylabel('weight')\n",
        "plt.title('BMI')"
      ],
      "metadata": {
        "trusted": true,
        "id": "QxoS1LJsUhcz",
        "outputId": "caac9417-334d-42c9-82ad-02b653cf5e82",
        "colab": {
          "base_uri": "https://localhost:8080/",
          "height": 489
        }
      },
      "outputs": [
        {
          "output_type": "execute_result",
          "data": {
            "text/plain": [
              "Text(0.5, 1.0, 'BMI')"
            ]
          },
          "metadata": {},
          "execution_count": 21
        },
        {
          "output_type": "display_data",
          "data": {
            "text/plain": [
              "<Figure size 640x480 with 1 Axes>"
            ],
            "image/png": "[encoded data removed]"
          },
          "metadata": {}
        }
      ],
      "execution_count": null
    },
    {
      "cell_type": "code",
      "source": [
        "y=x*x\n",
        "plt.plot(x,y,'ro-', c='g')\n",
        "plt.xlabel('height')\n",
        "plt.ylabel('weight')\n",
        "plt.title('BMI')"
      ],
      "metadata": {
        "trusted": true,
        "id": "xNhb_1ZYUhcz",
        "outputId": "79c7152d-9245-4b7f-8591-5f941e0ce128",
        "colab": {
          "base_uri": "https://localhost:8080/",
          "height": 544
        }
      },
      "outputs": [
        {
          "output_type": "stream",
          "name": "stderr",
          "text": [
            "/tmp/ipython-input-405977616.py:2: UserWarning: color is redundantly defined by the 'color' keyword argument and the fmt string \"ro-\" (-> color='r'). The keyword argument will take precedence.\n",
            "  plt.plot(x,y,'ro-', c='g')\n"
          ]
        },
        {
          "output_type": "execute_result",
          "data": {
            "text/plain": [
              "Text(0.5, 1.0, 'BMI')"
            ]
          },
          "metadata": {},
          "execution_count": 22
        },
        {
          "output_type": "display_data",
          "data": {
            "text/plain": [
              "<Figure size 640x480 with 1 Axes>"
            ],
            "image/png": "[encoded data removed]"
          },
          "metadata": {}
        }
      ],
      "execution_count": null
    },
    {
      "cell_type": "code",
      "source": [
        "y=x*x\n",
        "plt.plot(x,y,'ro--')\n",
        "plt.xlabel('height')\n",
        "plt.ylabel('weight')\n",
        "plt.title('BMI')"
      ],
      "metadata": {
        "trusted": true,
        "id": "-17xBeAnUhcz",
        "outputId": "09d86c4c-e6ca-468d-8b43-0c4355e40c76",
        "colab": {
          "base_uri": "https://localhost:8080/",
          "height": 489
        }
      },
      "outputs": [
        {
          "output_type": "execute_result",
          "data": {
            "text/plain": [
              "Text(0.5, 1.0, 'BMI')"
            ]
          },
          "metadata": {},
          "execution_count": 23
        },
        {
          "output_type": "display_data",
          "data": {
            "text/plain": [
              "<Figure size 640x480 with 1 Axes>"
            ],
            "image/png": "[encoded data removed]"
          },
          "metadata": {}
        }
      ],
      "execution_count": null
    }
  ]
}